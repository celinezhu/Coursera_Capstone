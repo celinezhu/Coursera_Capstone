{
 "cells": [
  {
   "cell_type": "markdown",
   "metadata": {},
   "source": [
    "### Business Problem"
   ]
  },
  {
   "cell_type": "markdown",
   "metadata": {},
   "source": [
    "#### 1. Background"
   ]
  },
  {
   "cell_type": "markdown",
   "metadata": {},
   "source": [
    "* Manhattan is one of the five boroughs in New York City. It is Central Business District of New York City's. It is a good idea to start business in Manhattan, especially for catering. Because Manhattan is most densely populated borough of New York, it has so many appetites to feed.\n",
    "* As a multicultural city, Manhattan has various restaurants, such as Italy food, Suchi of Japan, Thailand food and Chinese food. Nowadays, Chinese food is getting more attention. If you have a plan to open a Chinese restaurant in Manhattan, Which community is a good choice. \n",
    "* There are many factors affect a restaurant’s popularity, such as population density of a venue, rivals, environment, pricing, flavor and so on. In this project, we don’t have much information, but we can still use the dataset to help to chose a good place for a new Chinese restaurant. For example, we could cluster manhattan’s communities to find a district similar to Chinatown."
   ]
  },
  {
   "cell_type": "markdown",
   "metadata": {},
   "source": [
    "#### 2. Problem"
   ]
  },
  {
   "cell_type": "markdown",
   "metadata": {},
   "source": [
    "* The data we are going to explore in Manhattan, would help us to decide where is a good choice to open a Chinese restaurant. The dataset includes how many shops and what kind of shops on a venue, how many and what kind of restaurants on a venue. These factors give an impression of what biggest feature of a venue is. This project aims to find a good place to open a Chinese restaurant in Manhattan city."
   ]
  },
  {
   "cell_type": "code",
   "execution_count": null,
   "metadata": {},
   "outputs": [],
   "source": []
  }
 ],
 "metadata": {
  "kernelspec": {
   "display_name": "Python 3",
   "language": "python",
   "name": "python3"
  },
  "language_info": {
   "codemirror_mode": {
    "name": "ipython",
    "version": 3
   },
   "file_extension": ".py",
   "mimetype": "text/x-python",
   "name": "python",
   "nbconvert_exporter": "python",
   "pygments_lexer": "ipython3",
   "version": "3.6.8"
  }
 },
 "nbformat": 4,
 "nbformat_minor": 2
}
