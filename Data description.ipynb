{
 "cells": [
  {
   "cell_type": "markdown",
   "metadata": {},
   "source": [
    "## Data description"
   ]
  },
  {
   "cell_type": "markdown",
   "metadata": {},
   "source": [
    "#### 1. Data source"
   ]
  },
  {
   "cell_type": "markdown",
   "metadata": {},
   "source": [
    "* New York city has a total of 5 boroughs and 306 neighborhoods, we can get these data and the latitude, longitude coordinates of each neighborhood from the this linkage: https://geo.nyu.edu/catalog/nyu_2451_34572 . We could seperate Manhattan's data from it. \n",
    "* Then, we are going to utilize the Foursquare API to explore the neighborhoods and gain data of venues. we are going to get the top 100 venues of neighbors within a radius of 500 meters. Latitude and longitude coordinates of each venue will be added to the dataset, as well as categories of shops\n"
   ]
  },
  {
   "cell_type": "markdown",
   "metadata": {},
   "source": [
    "#### 2. Data Processing"
   ]
  },
  {
   "cell_type": "markdown",
   "metadata": {},
   "source": [
    "* After we get categories of shops of communities in Manhattan, we are going to extract data has categories is dinner and restaurant. Then data of Chinese restaurant will be further extracted. \n",
    "* In this part, data cleaning is not necessary, but the original dataset don’t have any numeric data. All the numeric data would be used in this project is calculated, such as the number of total shops in each venue, the mount of restaurant and Chinese restaurant of each community and percentage of restaurant in each community.\n",
    "* During the process of analysis, we will get some data to help us gain shop categories of venues. For example, we need Latitude and longitude of Neighborhood (community) to obtain venues. \n",
    "* There will not much predictive work to do, because the dataset is not big enough to do this job. It seems no causal relationship or dependent relationship between the amount of Chinese restaurant and the total amount of restaurant or communities.\n",
    "* Finally, Selected dataset would be segmented , clustered by k-mean clustering. Based on clusters and what we analyzed before, Recommendation will be given where is suitable for starting Chinese Restaurant business."
   ]
  },
  {
   "cell_type": "code",
   "execution_count": null,
   "metadata": {},
   "outputs": [],
   "source": []
  }
 ],
 "metadata": {
  "kernelspec": {
   "display_name": "Python 3",
   "language": "python",
   "name": "python3"
  },
  "language_info": {
   "codemirror_mode": {
    "name": "ipython",
    "version": 3
   },
   "file_extension": ".py",
   "mimetype": "text/x-python",
   "name": "python",
   "nbconvert_exporter": "python",
   "pygments_lexer": "ipython3",
   "version": "3.6.8"
  }
 },
 "nbformat": 4,
 "nbformat_minor": 2
}
